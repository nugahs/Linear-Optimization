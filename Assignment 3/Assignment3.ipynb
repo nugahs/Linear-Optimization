{
 "cells": [
  {
   "cell_type": "markdown",
   "metadata": {},
   "source": [
    "# Linear Optimization (CS5040) : Assignment 03"
   ]
  },
  {
   "cell_type": "markdown",
   "metadata": {},
   "source": [
    "# Team:"
   ]
  },
  {
   "cell_type": "markdown",
   "metadata": {},
   "source": [
    "#### 1. CS23MTECH11004 &emsp; - &emsp; Ashish B Emmanuel\n",
    "#### 2. CS23MTECH11016 &emsp; - &emsp; Raghavendra Kulkarni\n",
    "#### 3. CS23MTECH14013 &emsp; - &emsp; Shagun\n",
    "#### 4. CS23MTECH14016 &emsp; - &emsp; Trishita Saha"
   ]
  },
  {
   "cell_type": "markdown",
   "metadata": {},
   "source": [
    "# Question:"
   ]
  },
  {
   "cell_type": "markdown",
   "metadata": {},
   "source": [
    "Implement the simplex algorithm to maximize the objective function under given constraints using Vertex Marching method and assuming:\n",
    "* Rank of A is n"
   ]
  },
  {
   "cell_type": "markdown",
   "metadata": {},
   "source": [
    "# Input Format:"
   ]
  },
  {
   "cell_type": "markdown",
   "metadata": {},
   "source": [
    "Input is a .csv file with m+2 rows and n+1 columns. \n",
    "* The first row excluding the last element is the initial feasible point z of length n\n",
    "* The second row excluding the last element is the cost vector c of length n\n",
    "* The last column excluding the top two elements is the constraint vector b of length m\n",
    "* The rows third to m+2 and column one to n is the matrix A of size m*n"
   ]
  },
  {
   "cell_type": "markdown",
   "metadata": {},
   "source": [
    "# Solution:"
   ]
  },
  {
   "cell_type": "markdown",
   "metadata": {},
   "source": [
    "## Import the required libraries"
   ]
  },
  {
   "cell_type": "code",
   "execution_count": 1,
   "metadata": {},
   "outputs": [],
   "source": [
    "import numpy as np\n",
    "from sympy import Matrix, zoo"
   ]
  },
  {
   "cell_type": "markdown",
   "metadata": {},
   "source": [
    "## Function to read the .csv Input File"
   ]
  },
  {
   "cell_type": "code",
   "execution_count": 2,
   "metadata": {},
   "outputs": [],
   "source": [
    "'''\n",
    "Name        :   readCSV()\n",
    "Description :   Reads the input matrix A, vectors b and c and initial point z from a CSV file.\n",
    "Argument    :   Name of the Input file (without path)\n",
    "Return      :   The matrix A, vectors b and c and the initial point z in that order\n",
    "'''\n",
    "\n",
    "def readCSV(filename):\n",
    "    \n",
    "    # Open the file and assign a File Handler\n",
    "    with open(filename) as input:\n",
    "\n",
    "        # Read the first line to extract vector z\n",
    "        line = input.readline()\n",
    "        z = list(map(float, line.split(',')))\n",
    "        z = np.asarray(z[:-1], dtype = float)\n",
    "\n",
    "        # Read the second line to extract vector c\n",
    "        line = input.readline()\n",
    "        c = list(map(float, line.split(',')))\n",
    "        c = np.asarray(c[:-1], dtype = float)\n",
    "\n",
    "        # Read all the remaining lines to extract matrix A and vector b\n",
    "        A, b = [], []\n",
    "        for line in input.readlines():\n",
    "            l = list(map(float, line.split(',')))\n",
    "            A.append(l[:-1])\n",
    "            b.append(l[-1])\n",
    "        A = np.asarray(A, dtype = float)\n",
    "        b = np.asarray(b, dtype = float)\n",
    "    \n",
    "    # Return the matrix and the vectors\n",
    "    return A, b, c, z"
   ]
  },
  {
   "cell_type": "markdown",
   "metadata": {},
   "source": [
    "## Function to test the feasibility of a given point"
   ]
  },
  {
   "cell_type": "code",
   "execution_count": 3,
   "metadata": {},
   "outputs": [],
   "source": [
    "'''\n",
    "Name        :   testFeasibility()\n",
    "Description :   Checks whether a point z is a feasible solution for the system or not.\n",
    "Argument    :   Matrix A, vector b and the point z to be checked\n",
    "Return      :   True, if z is feasible\n",
    "                False, otherwise\n",
    "'''\n",
    "\n",
    "def testFeasibility(A, b, z):\n",
    "    \n",
    "    # Multiply A with z and compare it with b. Return the truth value\n",
    "    return all(np.matmul(A, z) <= b)"
   ]
  },
  {
   "cell_type": "markdown",
   "metadata": {},
   "source": [
    "## Function to split the matrix into tight and untight rows"
   ]
  },
  {
   "cell_type": "code",
   "execution_count": 4,
   "metadata": {},
   "outputs": [],
   "source": [
    "'''\n",
    "Name        :   splitRows()\n",
    "Description :   Splits the matrices A and b into set of tight and untight rows with respect to a given point z.\n",
    "Argument    :   Matrix A, vector b and the point z\n",
    "Return      :   Returns the set of tight and untight rows of A and b in that order\n",
    "'''\n",
    "\n",
    "def splitRows(A, b, z):\n",
    "    \n",
    "    # Initialize required variables\n",
    "    A1, A2, b1, b2 = [], [], [], []\n",
    "\n",
    "    # Multiply matrix A with z\n",
    "    Az = np.dot(A,z)\n",
    "\n",
    "    # For every element in product Az\n",
    "    for i in range(len(Az)):\n",
    "\n",
    "        # Compare with corresponding element of vector b and decide tight or untight\n",
    "        if np.dot(A[i], z) == b[i]:\n",
    "            A1.append(A[i])\n",
    "            b1.append(b[i])\n",
    "        else:\n",
    "            A2.append(A[i])\n",
    "            b2.append(b[i])\n",
    "    \n",
    "    # Return the tight and untight rows \n",
    "    return np.array(A1), np.array(b1), np.array(A2), np.array(b2)"
   ]
  },
  {
   "cell_type": "markdown",
   "metadata": {},
   "source": [
    "## Function to test whether the given point is a vertex or not"
   ]
  },
  {
   "cell_type": "code",
   "execution_count": 5,
   "metadata": {},
   "outputs": [],
   "source": [
    "'''\n",
    "Name        :   testVertex()\n",
    "Description :   Checks whether a point z is a vertex of the feasible region or not.\n",
    "Argument    :   Matrix A, vector b and the point z to be checked\n",
    "Return      :   True, if z is vertex\n",
    "                False, otherwise\n",
    "'''\n",
    "\n",
    "def testVertex(A, b, z):\n",
    "\n",
    "    # Split the matrix into tight and untight rows\n",
    "    A1, _, _, _ = splitRows(A, b, z)\n",
    "\n",
    "    # Compute the rank of matrix A and compare it with number of tight rows\n",
    "    return np.linalg.matrix_rank(A) <= A1.shape[0]"
   ]
  },
  {
   "cell_type": "markdown",
   "metadata": {},
   "source": [
    "## Function to update a feasible point and move it towards a vertex"
   ]
  },
  {
   "cell_type": "code",
   "execution_count": 6,
   "metadata": {},
   "outputs": [],
   "source": [
    "'''\n",
    "Name        :   move()\n",
    "Description :   Moves the feasible point towards a vertex of the feasible region by one step size.\n",
    "Argument    :   Matrix A, vector b and the vertex z\n",
    "Return      :   The point z reached after one step move\n",
    "'''\n",
    "\n",
    "def move(A, b, z):\n",
    "\n",
    "    # Determine the shape of the matrix and split it into tight and untight rows\n",
    "    _, n = A.shape[0], A.shape[1]\n",
    "    A1, _, A2, b2 = splitRows(A, b, z)\n",
    "    A1 = A1.reshape((A1.shape[0], n))\n",
    "\n",
    "    # Compute the direction to move the feasible point\n",
    "    nullspace = np.array(Matrix(A1).nullspace())\n",
    "    scale = np.random.randint(1, 4, nullspace.shape[0]).reshape(nullspace.shape[0], 1, 1)\n",
    "    vector = np.array(np.sum(nullspace * scale, axis = 0)).astype(float)\n",
    "    u = vector / np.linalg.norm(vector)\n",
    "\n",
    "    # Compute the step size 'alpha'\n",
    "    temp = np.dot(A2 , u)\n",
    "    for i in range(len(temp)):\n",
    "        if temp[i] == 0:\n",
    "            temp[i] = 1e-32\n",
    "    alpha = (b2 -np.dot(A2, z))/temp.T\n",
    "    alpha = alpha[0]\n",
    "    alpha = np.array([a for a in alpha if not ((a > 10**6) or (-1*a) > 10**6)])\n",
    "    alpha = alpha[np.argmin(np.abs(alpha.copy()))]\n",
    "\n",
    "    # Update the feasible point by one step size\n",
    "    u = u.T\n",
    "    z = z + alpha * u\n",
    "    z = z[0]\n",
    "\n",
    "    # Return the updated feasible point\n",
    "    return z"
   ]
  },
  {
   "cell_type": "markdown",
   "metadata": {},
   "source": [
    "## Function to test whether the given vertex is degenerate"
   ]
  },
  {
   "cell_type": "code",
   "execution_count": 7,
   "metadata": {},
   "outputs": [],
   "source": [
    "'''\n",
    "Name        :   testDegeneracy()\n",
    "Description :   Checks whether a vertex z of the feasible region is degenerate.\n",
    "Argument    :   Matrix A, vector b and the point z to be checked\n",
    "Return      :   True, if vertex z is degenerate\n",
    "                False, otherwise\n",
    "'''\n",
    "\n",
    "def testDegeneracy(A, b, z):\n",
    "\n",
    "    # Split the matrix into tight and untight rows\n",
    "    A1, _, _, _ = splitRows(A, b, z)\n",
    "\n",
    "    # Compute the rank of matrix A and compare it with number of tight rows\n",
    "    return np.linalg.matrix_rank(A) < A1.shape[0]"
   ]
  },
  {
   "cell_type": "markdown",
   "metadata": {},
   "source": [
    "## Function to remove degeneracy from the feasible region"
   ]
  },
  {
   "cell_type": "code",
   "execution_count": 8,
   "metadata": {},
   "outputs": [],
   "source": [
    "'''\n",
    "Name        :   removeDegeneracy()\n",
    "Description :   Removes degeneracy from the feasible region by adding powers of a small positive number to vector b.\n",
    "Argument    :   The vector b\n",
    "Return      :   The modified vector b\n",
    "'''\n",
    "\n",
    "def removeDegeneracy(b, epsilon):\n",
    "\n",
    "    add = epsilon\n",
    "\n",
    "    for i in range(len(b)):\n",
    "        b[i] += add\n",
    "        add *= epsilon\n",
    "\n",
    "    # Return the updated vector b \n",
    "    return b"
   ]
  },
  {
   "cell_type": "markdown",
   "metadata": {},
   "source": [
    "## Function to test whether the given vertex is an optimum vertex or not"
   ]
  },
  {
   "cell_type": "code",
   "execution_count": 9,
   "metadata": {},
   "outputs": [],
   "source": [
    "'''\n",
    "Name        :   testOptimum()\n",
    "Description :   Checks whether a vertex z is an optimum vertex or not.\n",
    "Argument    :   Matrix A, vector b and the vertex z to be checked\n",
    "Return      :   True, if z is optimum vertex\n",
    "                False, otherwise\n",
    "'''\n",
    "\n",
    "def testOptimum(A, b, z, c):\n",
    "    \n",
    "    # Split the matrix A into tight and untight rows\n",
    "    A1, _, _, _ = splitRows(A, b, z)\n",
    "\n",
    "    # Express the cost vector as a linear combination of tight rows\n",
    "    beta = np.dot(np.linalg.inv(A1.T), c.T)\n",
    "\n",
    "    # Check for non-negativity of all the coefficients and return the result\n",
    "    return all([x >= 0 for x in beta])"
   ]
  },
  {
   "cell_type": "markdown",
   "metadata": {},
   "source": [
    "## Function to march from one vertex to other optimizing the cost function"
   ]
  },
  {
   "cell_type": "code",
   "execution_count": 10,
   "metadata": {},
   "outputs": [],
   "source": [
    "'''\n",
    "Name        :   optimize()\n",
    "Description :   Optimizes the cost function by moving to the next optimum vertex\n",
    "Argument    :   Matrix A, vector b, the vertex z and the cost vector c\n",
    "Return      :   The next optimum vertex\n",
    "'''\n",
    "\n",
    "def optimize(A, b, z, c):\n",
    "\n",
    "    # Split the matrix into tight and untight rows\n",
    "    A1, _, A2, b2 = splitRows(A, b, z)\n",
    "\n",
    "    # Compute the direction to move in order to reach a more optimum vertex\n",
    "    u = None\n",
    "    A1_inverse = np.linalg.inv(A1)\n",
    "    A1_inverse = np.transpose(A1_inverse)\n",
    "    for x in A1_inverse:\n",
    "        if np.dot((-1)*x, c.T) > 0:\n",
    "            u = x.T\n",
    "            break\n",
    "    \n",
    "    # Compute the step size 'alpha'\n",
    "    temp = np.dot(A2, u)\n",
    "    for i in range(len(temp)):\n",
    "        if temp[i] == 0:\n",
    "            temp[i] = 1e-16\n",
    "    alpha = (np.dot(A2, z) - b2)/temp\n",
    "    alpha = [x for x in alpha if x != zoo]\n",
    "    if all([a < 0 for a in alpha]):\n",
    "        return z, False\n",
    "    alpha = min([x for x in alpha if x >= 0])\n",
    "    \n",
    "    # Update the vertex\n",
    "    z = z - alpha * u\n",
    "\n",
    "    # Return the updated vertex\n",
    "    return z, True"
   ]
  },
  {
   "cell_type": "markdown",
   "metadata": {},
   "source": [
    "## The driver main function executing the Simplex Algorithm steps sequentially"
   ]
  },
  {
   "cell_type": "code",
   "execution_count": 11,
   "metadata": {},
   "outputs": [],
   "source": [
    "'''\n",
    "Name        :   main()\n",
    "Description :   Driver function which calls the subroutines according to the Simplex Algorithm.\n",
    "Argument    :   None\n",
    "Return      :   None\n",
    "'''\n",
    "def main():\n",
    "\n",
    "    ## Read the input from the CSV file\n",
    "    A, b, c, z = readCSV('Assignment3.csv')\n",
    "    b_org = b.copy()\n",
    "\n",
    "    # Step 1: Check for feasibility of the Initial Point\n",
    "    if not testFeasibility(A, b, z):\n",
    "        print('Initial point {} is not feasible...!!!'.format(z))\n",
    "        return\n",
    "    \n",
    "    solved = False\n",
    "    epsilon = pow(2, -1)\n",
    "\n",
    "    while not solved:\n",
    "\n",
    "        # Step 2: Move towards the first vertex\n",
    "        while not testVertex(A, b, z):\n",
    "            z = move(A, b, z)\n",
    "\n",
    "        # Test for degeneracy of the vertex\n",
    "        if testDegeneracy(A, b, z):\n",
    "            b = removeDegeneracy(b_org.copy(), epsilon)\n",
    "            epsilon *= 2\n",
    "            continue\n",
    "\n",
    "        # Print the value of the Cost function at this first vertex\n",
    "        print('Vertex {} --> Cost: {}'.format(z, np.dot(z, c)))\n",
    "\n",
    "        # Step 3: March through every vertex and check for optimum along with degeneracy\n",
    "        solution = True\n",
    "        degenerate = False\n",
    "        while solution and (not testOptimum(A, b, z, c)):\n",
    "            z, solution = optimize(A, b, z, c)\n",
    "            if not solution:\n",
    "                print('No Solution')\n",
    "            elif testDegeneracy(A, b, z):\n",
    "                b = removeDegeneracy(b_org.copy(), epsilon)\n",
    "                degenerate = True\n",
    "                epsilon *= 2\n",
    "                break\n",
    "            else:\n",
    "                print('Vertex {} --> Cost: {}'.format(z, np.dot(z, c)))\n",
    "\n",
    "        if not degenerate:\n",
    "            solved = True\n",
    "\n",
    "    # Convert the solution back to the original solution, if it exists\n",
    "    if solution:\n",
    "        X, y = [], []\n",
    "        for i in range(len(A)):\n",
    "            if np.dot(A[i], z) == b[i]:\n",
    "                X.append(A[i])\n",
    "                y.append(b_org[i])\n",
    "        z = np.dot(np.linalg.inv(X), y)\n",
    "        print('Original Solution: Vertex {} --> Cost: {}'.format(z, np.dot(z, c)))\n",
    "\n",
    "    # Return\n",
    "    return"
   ]
  },
  {
   "cell_type": "markdown",
   "metadata": {},
   "source": [
    "## Invoking the driver main function"
   ]
  },
  {
   "cell_type": "code",
   "execution_count": 12,
   "metadata": {},
   "outputs": [
    {
     "name": "stdout",
     "output_type": "stream",
     "text": [
      "Vertex [ 1.0625 -0.125 ] --> Cost: -2.6875\n",
      "Vertex [ 0.625 -0.125] --> Cost: -1.375\n",
      "Original Solution: Vertex [1. 0.] --> Cost: -3.0\n"
     ]
    }
   ],
   "source": [
    "main()"
   ]
  }
 ],
 "metadata": {
  "kernelspec": {
   "display_name": ".env",
   "language": "python",
   "name": "python3"
  },
  "language_info": {
   "codemirror_mode": {
    "name": "ipython",
    "version": 3
   },
   "file_extension": ".py",
   "mimetype": "text/x-python",
   "name": "python",
   "nbconvert_exporter": "python",
   "pygments_lexer": "ipython3",
   "version": "3.10.12"
  }
 },
 "nbformat": 4,
 "nbformat_minor": 2
}
